{
 "cells": [
  {
   "cell_type": "markdown",
   "metadata": {},
   "source": [
    "## In this file, we're going to clean the data of all participants who didn't answer each of the questions, and then we're going to create dummies to replace the survey encoded answers.  Then we'll strip our dataframe of the survey information, and save that new dataframe as our dataset to work with"
   ]
  },
  {
   "cell_type": "code",
   "execution_count": 14,
   "metadata": {},
   "outputs": [],
   "source": [
    "import pandas as pd\n",
    "import numpy as np"
   ]
  },
  {
   "cell_type": "code",
   "execution_count": 15,
   "metadata": {},
   "outputs": [],
   "source": [
    "df = pd.read_csv('MH_DATA_UNCHANGED.csv')"
   ]
  },
  {
   "cell_type": "markdown",
   "metadata": {},
   "source": [
    "# I'm going to start by keeping only rows that have answers for the questions I care about (the columns I've kept)"
   ]
  },
  {
   "cell_type": "code",
   "execution_count": 16,
   "metadata": {},
   "outputs": [],
   "source": [
    "df_help = df[(df.AMDELT == 1) | (df.AMDELT == 2)]\n",
    "df_new = df_help[(df_help.AUINPYR == 1) | (df_help.AUINPYR == 2)]\n",
    "df_another = df_new[(df_new.AMDEYR == 1) | (df_new.AMDEYR == 2)]\n",
    "df_relig = df_another[(df_another.SNRLGSVC == 1) | (df_another.SNRLGSVC == 2) | (df_another.SNRLGSVC == 3) | (df_another.SNRLGSVC == 4) | (df_another.SNRLGSVC == 5) | (df_another.SNRLGSVC == 6)]\n",
    "df_relig2 = df_relig[(df_relig.SNRLDCSN == 1) | (df_relig.SNRLDCSN == 2) | (df_relig.SNRLDCSN == 3) | (df_relig.SNRLDCSN == 4)]\n",
    "df_age = df_relig2[(df_relig2.AGE2 > 7)]\n",
    "df_moves = df_age[(df_age.MOVSINPYR2 == 0) | (df_age.MOVSINPYR2 == 1) | (df_age.MOVSINPYR2 == 2) | (df_age.MOVSINPYR2 == 3)]\n",
    "df_sexid = df_moves[(df_moves.SEXIDENT == 1) | (df_moves.SEXIDENT == 2) | (df_moves.SEXIDENT == 3)]\n",
    "df_employ = df_sexid[(df_sexid.IRWRKSTAT == 1) | (df_sexid.IRWRKSTAT == 2) | (df_sexid.IRWRKSTAT == 3) | (df_sexid.IRWRKSTAT == 4)]\n",
    "df_insure = df_employ[(df_employ.PRVHLTIN == 1) | (df_employ.PRVHLTIN == 2)]\n",
    "df_sui = df_insure[(df_insure.MHSUITHK == 0) | (df_insure.MHSUITHK == 1)]\n",
    "df_pov = df_sui[(df_sui.POVERTY3 == 1) | (df_sui.POVERTY3 == 2) | (df_sui.POVERTY3 == 3)]\n",
    "df_mar = df_pov[(df_pov.IRMARIT == 1) | (df_pov.IRMARIT == 2) | (df_pov.IRMARIT == 3) | (df_pov.IRMARIT == 4)]\n",
    "df_health = df_mar[(df_mar.HEALTH == 0) | (df_mar.HEALTH == 1) | (df_mar.HEALTH == 2) | (df_mar.HEALTH == 3) | (df_mar.HEALTH == 4) | (df_mar.HEALTH == 5)]\n",
    "df_sex = df_health[(df_health.IRSEX == 1) | (df_health.IRSEX == 2)]\n",
    "df_second = df_sex[(df_sex.AUOPTYR == 1) | (df_sex.AUOPTYR == 2)]"
   ]
  },
  {
   "cell_type": "markdown",
   "metadata": {},
   "source": [
    "## Ok, so now we've thrown out all participants who don't have answers for the questions I want to evaluate (or they were assigned a 'skip' for some reason).  \n",
    "#TODO - find a simpler way to do all that coding, but survey data is hard. "
   ]
  },
  {
   "cell_type": "markdown",
   "metadata": {},
   "source": [
    "## Now we'll start to decode their answers, and create dummies for this information.  Creating dummies takes a while, feel free to keep scrolling."
   ]
  },
  {
   "cell_type": "code",
   "execution_count": 19,
   "metadata": {},
   "outputs": [],
   "source": [
    "# This one says 'If they responded to the question AMDELT, then give them a 1 for DEPEV (Depressed Ever), else give them \n",
    "# a 0.' So, this is a dummy variable for whether someone has ever had a major depressive episode.\n",
    "pd.options.mode.chained_assignment = None\n",
    "df_second['DEPEV'] = np.where(df_second.AMDELT == 1, 1, 0) "
   ]
  },
  {
   "cell_type": "code",
   "execution_count": 20,
   "metadata": {},
   "outputs": [],
   "source": [
    "pd.options.mode.chained_assignment = None\n",
    "df_second['DEPLY'] = np.where(df_second.AMDEYR == 1, 1, 0)"
   ]
  },
  {
   "cell_type": "code",
   "execution_count": 21,
   "metadata": {},
   "outputs": [],
   "source": [
    "# Not treated = 0, treated = 1, where treated can be inpatient or outpatient programs.\n",
    "pd.options.mode.chained_assignment = None\n",
    "df_second['TREATEDLY'] = np.where(df_second.AUINPYR == 1, 1, \n",
    "                                 np.where(df_second.AUOPTYR == 1, 1, 0))"
   ]
  },
  {
   "cell_type": "code",
   "execution_count": 22,
   "metadata": {},
   "outputs": [],
   "source": [
    "# Baseline no dummy religion is 1-24 services in past year\n",
    "# NoReligserv: 1 never went, 0 everyone else\n",
    "pd.options.mode.chained_assignment = None\n",
    "df_second['NORELIGSERV'] = np.where(df_second.SNRLGSVC == 1, 1, \n",
    "                                 np.where(df_second.SNRLGSVC == 2, 0,\n",
    "                                          np.where(df_second.SNRLGSVC == 3, 0,\n",
    "                                                   np.where(df_second.SNRLGSVC == 4, 0,\n",
    "                                                            np.where(df_second.SNRLGSVC == 5, 0,\n",
    "                                                                     np.where(df_second.SNRLGSVC == 6, 0, 0))))))"
   ]
  },
  {
   "cell_type": "code",
   "execution_count": 23,
   "metadata": {},
   "outputs": [],
   "source": [
    "# A Lot of Religserv: 1 went 25 - inf, 0 everyone else\n",
    "pd.options.mode.chained_assignment = None\n",
    "df_second['ALOTRELIGSERV'] = np.where(df_second.SNRLGSVC == 1, 0, \n",
    "                                 np.where(df_second.SNRLGSVC == 2, 0,\n",
    "                                          np.where(df_second.SNRLGSVC == 3, 0,\n",
    "                                                   np.where(df_second.SNRLGSVC == 4, 0,\n",
    "                                                            np.where(df_second.SNRLGSVC == 5, 1,\n",
    "                                                                     np.where(df_second.SNRLGSVC == 6, 1, 0))))))"
   ]
  },
  {
   "cell_type": "code",
   "execution_count": 24,
   "metadata": {},
   "outputs": [],
   "source": [
    "# Religdec: 0 religiousness does not impact decisions, 1 it does\n",
    "pd.options.mode.chained_assignment = None\n",
    "df_second['RELIGDEC'] = np.where(df_second.SNRLDCSN == 1, 0, \n",
    "                                 np.where(df_second.SNRLDCSN == 2, 0,\n",
    "                                          np.where(df_second.SNRLDCSN == 3, 1,\n",
    "                                                   np.where(df_second.SNRLDCSN == 4, 1, 0))))"
   ]
  },
  {
   "cell_type": "code",
   "execution_count": 25,
   "metadata": {},
   "outputs": [],
   "source": [
    "# baseline is straight\n",
    "# 0 is straight + gay, 1 is bi\n",
    "pd.options.mode.chained_assignment = None\n",
    "df_second['BISEXUAL'] = np.where(df_second.SEXIDENT == 1, 0, \n",
    "                                 np.where(df_second.AUOPTYR == 3, 1, \n",
    "                                          np.where(df_second.AUOPTYR == 2, 0, 0)))"
   ]
  },
  {
   "cell_type": "code",
   "execution_count": 26,
   "metadata": {},
   "outputs": [],
   "source": [
    "# 0 is straight + bi, 1 is gay\n",
    "pd.options.mode.chained_assignment = None\n",
    "df_second['GAY'] = np.where(df_second.SEXIDENT == 1, 0, \n",
    "                                 np.where(df_second.AUOPTYR == 3, 0, \n",
    "                                          np.where(df_second.AUOPTYR == 2, 1, 0)))"
   ]
  },
  {
   "cell_type": "code",
   "execution_count": 27,
   "metadata": {},
   "outputs": [],
   "source": [
    "# 0 is working, 1 is not\n",
    "pd.options.mode.chained_assignment = None\n",
    "df_second['NTWORKING'] = np.where(df_second.IRWRKSTAT == 1, 0, \n",
    "                                 np.where(df_second.IRWRKSTAT == 2, 0, \n",
    "                                          np.where(df_second.IRWRKSTAT == 3, 1, \n",
    "                                                   np.where(df_second.IRWRKSTAT == 4, 1, 0))))"
   ]
  },
  {
   "cell_type": "code",
   "execution_count": 28,
   "metadata": {},
   "outputs": [],
   "source": [
    "# 0 is not having private insurance, 1 is having private insurance\n",
    "pd.options.mode.chained_assignment = None\n",
    "df_second['PRVINSUR'] = np.where(df_second.PRVHLTIN == 2, 0, \n",
    "                                 np.where(df_second.PRVHLTIN == 1, 1, 0))"
   ]
  },
  {
   "cell_type": "code",
   "execution_count": 29,
   "metadata": {},
   "outputs": [],
   "source": [
    "# Baseline is up to 2x fed poverty level\n",
    "# 1 is in poverty\n",
    "pd.options.mode.chained_assignment = None\n",
    "df_second['POVERTY'] = np.where(df_second.POVERTY3 == 1, 1, \n",
    "                                 np.where(df_second.POVERTY3 == 2, 0, \n",
    "                                          np.where(df_second.POVERTY3 == 3, 0, 0)))"
   ]
  },
  {
   "cell_type": "code",
   "execution_count": 30,
   "metadata": {},
   "outputs": [],
   "source": [
    "# 1 is income more than 2X Fed poverty level\n",
    "pd.options.mode.chained_assignment = None\n",
    "df_second['WEALTHY'] = np.where(df_second.POVERTY3 == 3, 1, 0)"
   ]
  },
  {
   "cell_type": "code",
   "execution_count": 31,
   "metadata": {},
   "outputs": [],
   "source": [
    "# 1 is married\n",
    "pd.options.mode.chained_assignment = None\n",
    "df_second['MARRIED'] = np.where(df_second.IRMARIT == 1, 1, 0)"
   ]
  },
  {
   "cell_type": "code",
   "execution_count": 32,
   "metadata": {},
   "outputs": [],
   "source": [
    "# 1 is separated\n",
    "pd.options.mode.chained_assignment = None\n",
    "df_second['SEPARATED'] = np.where(df_second.IRMARIT == 3, 1, 0)"
   ]
  },
  {
   "cell_type": "code",
   "execution_count": 33,
   "metadata": {},
   "outputs": [],
   "source": [
    "# 1 is widowed\n",
    "pd.options.mode.chained_assignment = None\n",
    "df_second['WIDOWED'] = np.where(df_second.IRMARIT == 2, 1, 0)"
   ]
  },
  {
   "cell_type": "code",
   "execution_count": 34,
   "metadata": {},
   "outputs": [],
   "source": [
    "# 1 is in poor health\n",
    "pd.options.mode.chained_assignment = None\n",
    "df_second['POORHEALTH'] = np.where(df_second.HEALTH == 4, 1,\n",
    "                                   np.where(df_second.HEALTH == 5, 1, 0))"
   ]
  },
  {
   "cell_type": "code",
   "execution_count": 35,
   "metadata": {},
   "outputs": [],
   "source": [
    "# Have moved once = 1\n",
    "pd.options.mode.chained_assignment = None\n",
    "df_second['MOVEDONCE'] = np.where(df_second.MOVSINPYR2 == 1, 1, 0)"
   ]
  },
  {
   "cell_type": "code",
   "execution_count": 36,
   "metadata": {},
   "outputs": [],
   "source": [
    "# Have moved more than once = 1\n",
    "pd.options.mode.chained_assignment = None\n",
    "df_second['MOVEDMORE'] = np.where(df_second.MOVSINPYR2 == 2, 1,\n",
    "                                  np.where(df_second.MOVSINPYR2 == 3, 1, 0))"
   ]
  },
  {
   "cell_type": "code",
   "execution_count": 37,
   "metadata": {},
   "outputs": [],
   "source": [
    "# Ages 35-49 will be my baseline\n",
    "# This will be for 18-25\n",
    "pd.options.mode.chained_assignment = None\n",
    "df_second['YOUNGADULT'] = np.where(df_second.AGE2 == 8, 1, \n",
    "                                 np.where(df_second.AGE2 == 9, 1,\n",
    "                                          np.where(df_second.AGE2 == 10, 1, \n",
    "                                                   np.where(df_second.AGE2 == 11, 1,\n",
    "                                                            np.where(df_second.AGE2 == 12, 1,\n",
    "                                                                     np.where(df_second.AGE2 == 13, 0,\n",
    "                                                                              np.where(df_second.AGE2 == 14, 0,\n",
    "                                                                                       np.where(df_second.AGE2 == 15, 0,\n",
    "                                                                                                np.where(df_second.AGE2 == 16, 0,\n",
    "                                                                                                         np.where(df_second.AGE2 == 17, 0, 0))))))))))"
   ]
  },
  {
   "cell_type": "code",
   "execution_count": 38,
   "metadata": {},
   "outputs": [],
   "source": [
    "# 26 - 34\n",
    "pd.options.mode.chained_assignment = None\n",
    "df_second['TWENTOTHIRT'] = np.where(df_second.AGE2 == 8, 0, \n",
    "                                 np.where(df_second.AGE2 == 9, 0,\n",
    "                                          np.where(df_second.AGE2 == 10, 0, \n",
    "                                                   np.where(df_second.AGE2 == 11, 0,\n",
    "                                                            np.where(df_second.AGE2 == 12, 0,\n",
    "                                                                     np.where(df_second.AGE2 == 13, 1,\n",
    "                                                                              np.where(df_second.AGE2 == 14, 1,\n",
    "                                                                                       np.where(df_second.AGE2 == 15, 0,\n",
    "                                                                                                np.where(df_second.AGE2 == 16, 0,\n",
    "                                                                                                         np.where(df_second.AGE2 == 17, 0, 0))))))))))"
   ]
  },
  {
   "cell_type": "code",
   "execution_count": 39,
   "metadata": {},
   "outputs": [],
   "source": [
    "# 50-64\n",
    "pd.options.mode.chained_assignment = None\n",
    "df_second['FIFTOSIX'] = np.where(df_second.AGE2 == 8, 0, \n",
    "                                 np.where(df_second.AGE2 == 9, 0,\n",
    "                                          np.where(df_second.AGE2 == 10, 0, \n",
    "                                                   np.where(df_second.AGE2 == 11, 0,\n",
    "                                                            np.where(df_second.AGE2 == 12, 0,\n",
    "                                                                     np.where(df_second.AGE2 == 13, 0,\n",
    "                                                                              np.where(df_second.AGE2 == 14, 0,\n",
    "                                                                                       np.where(df_second.AGE2 == 15, 0,\n",
    "                                                                                                np.where(df_second.AGE2 == 16, 1,\n",
    "                                                                                                         np.where(df_second.AGE2 == 17, 0, 0))))))))))"
   ]
  },
  {
   "cell_type": "code",
   "execution_count": 40,
   "metadata": {},
   "outputs": [],
   "source": [
    "# 65 and older\n",
    "pd.options.mode.chained_assignment = None\n",
    "df_second['OVERSIXFIV'] = np.where(df_second.AGE2 == 8, 0, \n",
    "                                 np.where(df_second.AGE2 == 9, 0,\n",
    "                                          np.where(df_second.AGE2 == 10, 0, \n",
    "                                                   np.where(df_second.AGE2 == 11, 0,\n",
    "                                                            np.where(df_second.AGE2 == 12, 0,\n",
    "                                                                     np.where(df_second.AGE2 == 13, 0,\n",
    "                                                                              np.where(df_second.AGE2 == 14, 0,\n",
    "                                                                                       np.where(df_second.AGE2 == 15, 0,\n",
    "                                                                                                np.where(df_second.AGE2 == 16, 0,\n",
    "                                                                                                         np.where(df_second.AGE2 == 17, 1, 0))))))))))"
   ]
  },
  {
   "cell_type": "code",
   "execution_count": 41,
   "metadata": {},
   "outputs": [],
   "source": [
    "# Women\n",
    "pd.options.mode.chained_assignment = None\n",
    "df_second['FEMALE'] = np.where(df_second.IRSEX == 2, 1, 0)"
   ]
  },
  {
   "cell_type": "code",
   "execution_count": 42,
   "metadata": {},
   "outputs": [],
   "source": [
    "# Black/Afr Am\n",
    "pd.options.mode.chained_assignment = None\n",
    "df_second['BLACK'] = np.where(df_second.NEWRACE2 == 2, 1, 0)"
   ]
  },
  {
   "cell_type": "code",
   "execution_count": 43,
   "metadata": {},
   "outputs": [],
   "source": [
    "# Native AM + Native Islander\n",
    "pd.options.mode.chained_assignment = None\n",
    "df_second['NATIVE_AM_IS'] = np.where(df_second.NEWRACE2 == 3, 1,\n",
    "                                              np.where(df_second.NEWRACE2 == 4, 1,0))"
   ]
  },
  {
   "cell_type": "code",
   "execution_count": 44,
   "metadata": {},
   "outputs": [],
   "source": [
    "# Asian\n",
    "pd.options.mode.chained_assignment = None\n",
    "df_second['ASIAN'] = np.where(df_second.NEWRACE2 == 5, 1, 0)"
   ]
  },
  {
   "cell_type": "code",
   "execution_count": 45,
   "metadata": {},
   "outputs": [],
   "source": [
    "# Multiracial\n",
    "pd.options.mode.chained_assignment = None\n",
    "df_second['MULTIRACIAL'] = np.where(df_second.NEWRACE2 == 6, 1, 0)"
   ]
  },
  {
   "cell_type": "code",
   "execution_count": 46,
   "metadata": {},
   "outputs": [],
   "source": [
    "# Hispanic\n",
    "pd.options.mode.chained_assignment = None\n",
    "df_second['HISPANIC'] = np.where(df_second.NEWRACE2 == 7, 1, 0)"
   ]
  },
  {
   "cell_type": "markdown",
   "metadata": {},
   "source": [
    "## Now we've created dummies for all of the information we want, so we'll drop the original survey answer questions from our dataframe and save it!"
   ]
  },
  {
   "cell_type": "code",
   "execution_count": 47,
   "metadata": {},
   "outputs": [],
   "source": [
    "df_second = df_second.drop(['AMDELT','AUINPYR','AUOPTYR','AMDEYR','SNRLGSVC','SNRLDCSN','SEXIDENT','IRWRKSTAT','PRVHLTIN', 'POVERTY3','IRMARIT','HEALTH', 'IRMARIT','MOVSINPYR2','AGE2','HLCNOTYR','IRSEX','NEWRACE2'], axis=1)"
   ]
  },
  {
   "cell_type": "code",
   "execution_count": 56,
   "metadata": {},
   "outputs": [],
   "source": [
    "df_second.to_csv('MH_DATA_WVARS.csv', index=False, header=True)"
   ]
  },
  {
   "cell_type": "code",
   "execution_count": null,
   "metadata": {},
   "outputs": [],
   "source": []
  }
 ],
 "metadata": {
  "kernelspec": {
   "display_name": "Python 3",
   "language": "python",
   "name": "python3"
  },
  "language_info": {
   "codemirror_mode": {
    "name": "ipython",
    "version": 3
   },
   "file_extension": ".py",
   "mimetype": "text/x-python",
   "name": "python",
   "nbconvert_exporter": "python",
   "pygments_lexer": "ipython3",
   "version": "3.6.5"
  }
 },
 "nbformat": 4,
 "nbformat_minor": 2
}
